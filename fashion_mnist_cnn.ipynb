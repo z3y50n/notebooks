{
 "cells": [
  {
   "cell_type": "code",
   "execution_count": 1,
   "id": "8cc06cc6",
   "metadata": {},
   "outputs": [],
   "source": [
    "import torch\n",
    "import matplotlib.pyplot as plt\n",
    "import numpy as np\n",
    "np.set_printoptions(suppress=True)\n",
    "torch.set_printoptions(sci_mode=False)\n",
    "# See bottom for some explanations"
   ]
  },
  {
   "cell_type": "code",
   "execution_count": 2,
   "id": "c8d012ac",
   "metadata": {},
   "outputs": [],
   "source": [
    "LABELS = {\n",
    "    0: \"T-shirt/top\",\n",
    "    1: \"Trouser\",\n",
    "    2: \"Pullover\",\n",
    "    3: \"Dress\",\n",
    "    4: \"Coat\",\n",
    "    5: \"Sandal\",\n",
    "    6: \"Shirt\",\n",
    "    7: \"Sneaker\",\n",
    "    8: \"Bag\",\n",
    "    9: \"Ankle boot\"\n",
    "}"
   ]
  },
  {
   "cell_type": "code",
   "execution_count": 3,
   "id": "e2cb1f0b",
   "metadata": {},
   "outputs": [],
   "source": [
    "# Define Dataset, I know it is already on Pytorch but that's how we learn!\n",
    "import os\n",
    "import gzip\n",
    "from torch.utils.data import Dataset, DataLoader\n",
    "\n",
    "class FashionDataset:\n",
    "    def __init__(self, X_filename, Y_filename):\n",
    "        self.X = torch.Tensor(self.fetch_data(X_filename)[0x10:].reshape(-1, 28, 28))\n",
    "        self.Y = torch.Tensor(self.fetch_data(Y_filename)[0x8:])\n",
    "        \n",
    "    def __len__(self):\n",
    "        return self.X.shape[0]\n",
    "    \n",
    "    def __getitem__(self, idx):\n",
    "        return self.X[idx], self.Y[idx]\n",
    "    \n",
    "    def fetch_data(self, filename):\n",
    "        path = os.path.join(\"data\", \"fashion\", filename)\n",
    "        if not os.path.isdir(\"data/fashion\"):\n",
    "            os.makedirs(\"data/fashion\", exist_ok=True)\n",
    "        if not os.path.isfile(path):\n",
    "            import requests\n",
    "            url = f\"http://fashion-mnist.s3-website.eu-central-1.amazonaws.com/{filename}\"\n",
    "            data = requests.get(url).content\n",
    "            with open(path, \"wb\") as f:\n",
    "                f.write(data)\n",
    "        else:\n",
    "            with open(path, \"rb\") as f:\n",
    "                data = f.read()\n",
    "        return np.frombuffer(gzip.decompress(data), dtype=np.uint8).copy()"
   ]
  },
  {
   "cell_type": "code",
   "execution_count": 4,
   "id": "0a42a002",
   "metadata": {},
   "outputs": [],
   "source": [
    "BS = 64\n",
    "\n",
    "training_data = FashionDataset(\"train-images-idx3-ubyte.gz\", \"train-labels-idx1-ubyte.gz\")\n",
    "testing_data = FashionDataset(\"t10k-images-idx3-ubyte.gz\", \"t10k-labels-idx1-ubyte.gz\")\n",
    "\n",
    "train_dataloader = DataLoader(training_data, batch_size=BS, shuffle=True)\n",
    "test_dataloader = DataLoader(testing_data, batch_size=BS, shuffle=True)\n"
   ]
  },
  {
   "cell_type": "code",
   "execution_count": 5,
   "id": "a87a1f42",
   "metadata": {},
   "outputs": [],
   "source": [
    "from torch import nn\n",
    "import torch.nn.functional as F\n",
    "\n",
    "class FashionMNISTNet(nn.Module):\n",
    "    def __init__(self):\n",
    "        super(FashionMNISTNet, self).__init__()\n",
    "        self.conv1 = nn.Conv2d(1, 6, kernel_size=5)\n",
    "        self.conv2 = nn.Conv2d(6, 16, kernel_size=5)\n",
    "        \n",
    "        self.l1 = nn.Linear(16 * 4 * 4, 120) # Image will be of shape 16, 4, 4 after above ops\n",
    "        self.l2 = nn.Linear(120, 84)\n",
    "        self.l3 = nn.Linear(84, 10)\n",
    "        \n",
    "    def forward(self, X):\n",
    "        x = F.max_pool2d(F.relu(self.conv1(X)), kernel_size=2)\n",
    "        x = F.max_pool2d(F.relu(self.conv2(x)), kernel_size=2)\n",
    "        x = F.relu(self.l1(torch.flatten(x, 1)))\n",
    "        x = F.relu(self.l2(x))\n",
    "        x = self.l3(x)\n",
    "        return x"
   ]
  },
  {
   "cell_type": "code",
   "execution_count": 6,
   "id": "6ad9cc47",
   "metadata": {},
   "outputs": [],
   "source": [
    "def train(dataloader, model, loss_fn, optimizer):\n",
    "    size = len(dataloader.dataset)\n",
    "    model.train()\n",
    "    for batch, (X, Y) in enumerate(dataloader):\n",
    "        pred = model(X.reshape(-1, 1, 28, 28))\n",
    "        loss = loss_fn(pred, Y.long())\n",
    "        \n",
    "        optimizer.zero_grad()\n",
    "        loss.backward()\n",
    "        optimizer.step()"
   ]
  },
  {
   "cell_type": "code",
   "execution_count": 7,
   "id": "440cd6d1",
   "metadata": {},
   "outputs": [],
   "source": [
    "def test(dataloader, model, loss_fn):\n",
    "    size = len(dataloader.dataset)\n",
    "    num_batches = len(dataloader)\n",
    "    model.eval()\n",
    "    test_loss, correct = 0, 0\n",
    "    with torch.no_grad():\n",
    "        for X, Y in dataloader:\n",
    "            pred = model(X.reshape(-1, 1, 28, 28))\n",
    "            test_loss += loss_fn(pred, Y.long()).item()\n",
    "            correct += (pred.argmax(1) == Y).float().sum().item()\n",
    "\n",
    "    test_loss /= num_batches\n",
    "    correct /= size\n",
    "    return correct, test_loss"
   ]
  },
  {
   "cell_type": "code",
   "execution_count": 24,
   "id": "2edad65f",
   "metadata": {},
   "outputs": [
    {
     "name": "stderr",
     "output_type": "stream",
     "text": [
      "Accuracy: 89.2%, Avg loss: 0.324496: 100%|██████████| 10/10 [00:48<00:00,  4.82s/it]\n"
     ]
    }
   ],
   "source": [
    "from tqdm import trange\n",
    "EPOCHS = 10\n",
    "\n",
    "model = FashionMNISTNet()\n",
    "loss_fn = nn.CrossEntropyLoss()\n",
    "optimizer = torch.optim.Adam(model.parameters(), lr=1e-3)\n",
    "\n",
    "for epoch in (t:=trange(EPOCHS)):\n",
    "#     print(f\"Epoch {epoch+1}\\n-------------------------------\")\n",
    "    train(train_dataloader, model, loss_fn, optimizer)\n",
    "    accuracy, avg_loss = test(test_dataloader, model, loss_fn)\n",
    "    t.set_description(f\"Accuracy: {(100*accuracy):>0.1f}%, Avg loss: {avg_loss:>8f}\")"
   ]
  },
  {
   "cell_type": "code",
   "execution_count": 27,
   "id": "9bb941e5",
   "metadata": {},
   "outputs": [
    {
     "name": "stdout",
     "output_type": "stream",
     "text": [
      "Prediction: Dress\n",
      "Real: Dress\n"
     ]
    },
    {
     "data": {
      "image/png": "[encoded data removed]",
      "text/plain": [
       "<Figure size 432x288 with 1 Axes>"
      ]
     },
     "metadata": {
      "needs_background": "light"
     },
     "output_type": "display_data"
    }
   ],
   "source": [
    "sample = np.random.randint(10000)\n",
    "plt.imshow(testing_data[sample][0])\n",
    "pred = model(testing_data[sample][0].reshape(-1, 1, 28, 28))\n",
    "print(f\"Prediction: {LABELS[pred.argmax().item()]}\")\n",
    "print(f\"Real: {LABELS[testing_data[sample][1].item()]}\")"
   ]
  },
  {
   "cell_type": "code",
   "execution_count": 26,
   "id": "07343882",
   "metadata": {},
   "outputs": [
    {
     "name": "stdout",
     "output_type": "stream",
     "text": [
      "T-shirt/top\n"
     ]
    },
    {
     "data": {
      "image/png": "[encoded data removed]",
      "text/plain": [
       "<Figure size 432x288 with 1 Axes>"
      ]
     },
     "metadata": {
      "needs_background": "light"
     },
     "output_type": "display_data"
    }
   ],
   "source": [
    "import cv2\n",
    "\n",
    "img = cv2.imread(\"data/tshirt.jpeg\")\n",
    "img = cv2.cvtColor(img, cv2.COLOR_BGR2GRAY)\n",
    "\n",
    "img = cv2.resize(img, (28, 28)) - 255\n",
    "plt.imshow(img)\n",
    "\n",
    "pred = model(torch.Tensor(img.reshape(-1, 1, 28, 28)))\n",
    "print(LABELS[pred.argmax().item()])"
   ]
  },
  {
   "cell_type": "markdown",
   "id": "ca945eef",
   "metadata": {},
   "source": [
    "[Source](https://www.analyticsvidhya.com/blog/2020/10/what-is-the-convolutional-neural-network-architecture/)\n",
    "\n",
    "\n",
    "**Padding**: append a border of zeros in order to not change the size\n",
    "![Padding](https://editor.analyticsvidhya.com/uploads/99433dnn4.gif)\n",
    "\n",
    "**Stride**: Some times we do not want to capture all the data or information available so we skip some \n",
    "        neighboring cells\n",
    "![Stride](https://editor.analyticsvidhya.com/uploads/92373dnn5.gif)\n",
    "\n",
    "**Pooling**: In general terms pooling refers to a small portion, so here we take a small portion of the input and try to take some summarized value\n",
    "![Pooling](https://editor.analyticsvidhya.com/uploads/54575dnn6.png)"
   ]
  }
 ],
 "metadata": {
  "kernelspec": {
   "display_name": "Python 3",
   "language": "python",
   "name": "python3"
  },
  "language_info": {
   "codemirror_mode": {
    "name": "ipython",
    "version": 3
   },
   "file_extension": ".py",
   "mimetype": "text/x-python",
   "name": "python",
   "nbconvert_exporter": "python",
   "pygments_lexer": "ipython3",
   "version": "3.8.10"
  }
 },
 "nbformat": 4,
 "nbformat_minor": 5
}
